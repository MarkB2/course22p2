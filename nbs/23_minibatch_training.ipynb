{
 "cells": [
  {
   "cell_type": "code",
   "execution_count": 1,
   "id": "143a491f-236b-4f88-8e6a-9d629714d464",
   "metadata": {},
   "outputs": [],
   "source": [
    "import pickle, gzip\n",
    "from pathlib import Path\n",
    "import torch\n",
    "import fastcore.all as fc\n",
    "from matplotlib import pylab as plt"
   ]
  },
  {
   "cell_type": "code",
   "execution_count": 2,
   "id": "f94324d6-7b8b-4b86-bda7-d35fe4a6165a",
   "metadata": {},
   "outputs": [],
   "source": [
    "data = Path('data')"
   ]
  },
  {
   "cell_type": "code",
   "execution_count": 3,
   "id": "35274146-24cc-44fc-a37b-1f217d61636a",
   "metadata": {},
   "outputs": [
    {
     "data": {
      "text/plain": [
       "<gzip _io.BufferedReader name='data/mnist.pkl.gz' 0x7fa2142db5b0>"
      ]
     },
     "execution_count": 3,
     "metadata": {},
     "output_type": "execute_result"
    }
   ],
   "source": [
    "gzip.open(data/'mnist.pkl.gz')"
   ]
  },
  {
   "cell_type": "code",
   "execution_count": 4,
   "id": "6d81c588-f2e0-48e7-9b7c-b06b6639e16c",
   "metadata": {},
   "outputs": [],
   "source": [
    "((x_train, y_train), (x_valid, y_valid), (x_test, y_test)) = pickle.load(gzip.open(data/'mnist.pkl.gz'), encoding='latin-1')\n",
    "x_train, y_train, x_valid, y_valid = map(torch.tensor, [x_train, y_train, x_valid, y_valid])"
   ]
  },
  {
   "cell_type": "code",
   "execution_count": 5,
   "id": "9351c4ae-3efe-4b24-aa11-c7fca7b16b82",
   "metadata": {},
   "outputs": [],
   "source": [
    "class Dataset:\n",
    "    def __init__(self, *ds): self.ds = list(zip(*ds))\n",
    "    def __len__(self): return len(self.ds)\n",
    "    def __getitem__(self, i): return self.ds[i]"
   ]
  },
  {
   "cell_type": "code",
   "execution_count": 6,
   "id": "dc64c4bc-b391-4b75-b2ba-56d9dac17ad9",
   "metadata": {},
   "outputs": [
    {
     "data": {
      "text/plain": [
       "(torch.Size([784]), tensor(2), tuple)"
      ]
     },
     "execution_count": 6,
     "metadata": {},
     "output_type": "execute_result"
    }
   ],
   "source": [
    "ds = Dataset(x_train,y_train)\n",
    "ds[5][0].shape, ds[5][1], type(ds[2])"
   ]
  },
  {
   "cell_type": "code",
   "execution_count": 7,
   "id": "0f3b29a1-3948-4cfb-b135-f3e8b8bb4c46",
   "metadata": {},
   "outputs": [],
   "source": [
    "import random\n",
    "\n",
    "class Sampler:\n",
    "    def __init__(self, ds, shuffle): self.n,self.shuffle = len(ds),shuffle\n",
    "    def __iter__(self): \n",
    "        res = list(range(self.n))\n",
    "        if self.shuffle: random.shuffle(res)\n",
    "        return iter(res)"
   ]
  },
  {
   "cell_type": "code",
   "execution_count": 8,
   "id": "9442a0c2-9501-4a12-836e-3c3c3b2213a0",
   "metadata": {},
   "outputs": [
    {
     "name": "stdout",
     "output_type": "stream",
     "text": [
      "44240\n",
      "14156\n",
      "28325\n",
      "19433\n",
      "28567\n"
     ]
    }
   ],
   "source": [
    "s = Sampler(ds, True)\n",
    "for _ in range(5):\n",
    "    print(next(iter(s)))"
   ]
  },
  {
   "cell_type": "code",
   "execution_count": 9,
   "id": "6b0e0325-bbaf-4895-bf5a-5a93373e7b27",
   "metadata": {},
   "outputs": [
    {
     "data": {
      "text/plain": [
       "[46129, 9899, 39302, 7516, 44726]"
      ]
     },
     "execution_count": 9,
     "metadata": {},
     "output_type": "execute_result"
    }
   ],
   "source": [
    "from itertools import islice\n",
    "ix = islice(s,5)\n",
    "list(ix)"
   ]
  },
  {
   "cell_type": "code",
   "execution_count": 10,
   "id": "2932b30f-1b6d-437f-bbbb-9fe72aa18935",
   "metadata": {},
   "outputs": [],
   "source": [
    "import fastcore.all as fc\n",
    "# fc.chunked??"
   ]
  },
  {
   "cell_type": "code",
   "execution_count": 11,
   "id": "5665bd02-f779-4f36-be4f-2cae4478e451",
   "metadata": {},
   "outputs": [],
   "source": [
    "class BatchSampler:\n",
    "    def __init__(self, sampler, bs, drop_last=False): fc.store_attr()\n",
    "    def __iter__(self): yield from fc.chunked(iter(self.sampler), self.bs, self.drop_last)\n",
    "        "
   ]
  },
  {
   "cell_type": "code",
   "execution_count": 12,
   "id": "27092e76-1039-424b-bb22-e60810118e9e",
   "metadata": {},
   "outputs": [],
   "source": [
    "batch_sampler = BatchSampler(Sampler(ds, shuffle=True), bs=256, drop_last=True)\n",
    "batch = next(iter(batch_sampler))"
   ]
  },
  {
   "cell_type": "code",
   "execution_count": 13,
   "id": "8df8783a-4830-46bd-ae9e-e46107744e6b",
   "metadata": {},
   "outputs": [],
   "source": [
    "def collate_fn(b):\n",
    "    xs, ys = list(zip(*b))\n",
    "    return torch.stack(xs), torch.stack(ys)"
   ]
  },
  {
   "cell_type": "code",
   "execution_count": 14,
   "id": "66dc34c9-64cc-46c3-9c85-bc877951e09c",
   "metadata": {},
   "outputs": [],
   "source": [
    "class Dataloader:\n",
    "    def __init__(self, ds, batches, collate_fn): fc.store_attr()\n",
    "    def __iter__(self): yield from (self.collate_fn(ds[i] for i in b) for b in self.batches)"
   ]
  },
  {
   "cell_type": "code",
   "execution_count": 15,
   "id": "6dac7e3d-b0a5-49b8-a75f-d7c662cab3cf",
   "metadata": {},
   "outputs": [],
   "source": [
    "dl = Dataloader(ds, batch_sampler, collate_fn)"
   ]
  },
  {
   "cell_type": "code",
   "execution_count": 16,
   "id": "8dcf6328-98c5-495c-a0ec-62bc1cfdd65f",
   "metadata": {},
   "outputs": [
    {
     "data": {
      "text/plain": [
       "(tensor([[0., 0., 0.,  ..., 0., 0., 0.],\n",
       "         [0., 0., 0.,  ..., 0., 0., 0.],\n",
       "         [0., 0., 0.,  ..., 0., 0., 0.],\n",
       "         ...,\n",
       "         [0., 0., 0.,  ..., 0., 0., 0.],\n",
       "         [0., 0., 0.,  ..., 0., 0., 0.],\n",
       "         [0., 0., 0.,  ..., 0., 0., 0.]]),\n",
       " tensor([3, 2, 7, 0, 7, 6, 9, 2, 4, 6, 3, 3, 5, 9, 2, 0, 8, 8, 6, 9, 4, 6, 3, 4,\n",
       "         1, 6, 7, 9, 9, 8, 2, 8, 6, 1, 2, 4, 3, 5, 9, 7, 1, 0, 5, 6, 5, 3, 6, 3,\n",
       "         4, 5, 5, 6, 9, 3, 5, 9, 8, 1, 2, 3, 0, 7, 4, 9, 8, 1, 9, 9, 3, 1, 8, 1,\n",
       "         4, 0, 1, 7, 2, 6, 1, 9, 7, 5, 8, 3, 1, 3, 5, 4, 1, 9, 8, 2, 3, 0, 9, 6,\n",
       "         0, 3, 0, 6, 9, 0, 6, 0, 9, 8, 3, 2, 3, 1, 2, 3, 7, 6, 4, 1, 8, 6, 1, 5,\n",
       "         4, 2, 7, 5, 5, 0, 7, 2, 3, 4, 9, 7, 2, 7, 1, 6, 2, 5, 1, 8, 5, 3, 1, 8,\n",
       "         3, 0, 7, 1, 1, 2, 8, 8, 2, 3, 3, 9, 0, 0, 9, 0, 3, 5, 7, 7, 4, 8, 4, 9,\n",
       "         2, 7, 5, 6, 6, 9, 1, 4, 6, 5, 9, 8, 7, 0, 8, 0, 1, 2, 3, 4, 3, 0, 2, 8,\n",
       "         3, 1, 8, 9, 4, 1, 1, 1, 7, 6, 3, 2, 7, 5, 4, 4, 6, 8, 3, 4, 1, 9, 6, 8,\n",
       "         3, 1, 2, 4, 7, 4, 1, 4, 1, 1, 3, 6, 8, 1, 5, 9, 1, 9, 9, 3, 6, 9, 8, 4,\n",
       "         4, 9, 5, 1, 9, 1, 1, 8, 4, 6, 3, 9, 3, 3, 5, 8]))"
      ]
     },
     "execution_count": 16,
     "metadata": {},
     "output_type": "execute_result"
    }
   ],
   "source": [
    "next(iter(dl))"
   ]
  },
  {
   "cell_type": "code",
   "execution_count": 17,
   "id": "7e8ccd50-441c-4a11-9f00-4f7c419d95d9",
   "metadata": {},
   "outputs": [],
   "source": [
    "# import torch.multiprocessing as mp\n",
    "\n",
    "# class DataLoader():\n",
    "#     def __init__(self, ds, batchs, n_workers=1, collate_fn=collate_fn): fc.store_attr()\n",
    "#     def __iter__(self):\n",
    "#         with mp.Pool(self.n_workers) as ex: yield from ex.map(self.ds.__getitem__, iter(self.batchs))"
   ]
  },
  {
   "cell_type": "code",
   "execution_count": 18,
   "id": "94772ef6-52aa-4755-a00a-cdc47cd52dba",
   "metadata": {},
   "outputs": [],
   "source": [
    "class Dataset:\n",
    "    def __init__(self, xs, ys): fc.store_attr()\n",
    "    def __len__(self): return len(self.xs)\n",
    "    def __getitem__(self, i): return self.xs[i], self.ys[i]"
   ]
  },
  {
   "cell_type": "code",
   "execution_count": 19,
   "id": "421abcb4-a95d-4ada-aafc-91e686735df1",
   "metadata": {},
   "outputs": [],
   "source": [
    "ds = Dataset(x_train, y_train)\n",
    "# train_dl = DataLoader(ds, batch_sampler, collate_fn=collate_fn, n_workers=2)\n",
    "# it = iter(train_dl)"
   ]
  },
  {
   "cell_type": "code",
   "execution_count": 20,
   "id": "99d64b0b-b3b5-488b-9fe6-a92bac461126",
   "metadata": {},
   "outputs": [],
   "source": [
    "# next(it)"
   ]
  },
  {
   "cell_type": "code",
   "execution_count": 21,
   "id": "5422123b-8b7b-4eab-a10a-6fe58f4c99dd",
   "metadata": {},
   "outputs": [
    {
     "name": "stdout",
     "output_type": "stream",
     "text": [
      "246 ms ± 3.61 ms per loop (mean ± std. dev. of 7 runs, 1 loop each)\n"
     ]
    }
   ],
   "source": [
    "%timeit for _ in dl: pass"
   ]
  },
  {
   "cell_type": "code",
   "execution_count": 22,
   "id": "78fad351-329e-439a-bb53-bca3af46d9b9",
   "metadata": {},
   "outputs": [],
   "source": [
    "from torch.multiprocessing import Pool"
   ]
  },
  {
   "cell_type": "code",
   "execution_count": 23,
   "id": "b778bd10-f31a-460f-9b40-1ab5f4e0cecc",
   "metadata": {},
   "outputs": [],
   "source": [
    "class MDataloader:\n",
    "    def __init__(self, ds, batches, collate_fn, n_workers=1): fc.store_attr()\n",
    "    def __iter__(self):\n",
    "        with Pool(self.n_workers) as p: yield from p.map(self.ds.__getitem__, iter(self.batches))"
   ]
  },
  {
   "cell_type": "code",
   "execution_count": 24,
   "id": "7704ee8d-0d4b-45bb-8c77-bfe86b213b1c",
   "metadata": {},
   "outputs": [],
   "source": [
    "dl = MDataloader(ds, batch_sampler, collate_fn, 2)"
   ]
  },
  {
   "cell_type": "code",
   "execution_count": 25,
   "id": "707f3a0b-e9df-4e28-bac1-ddb90ec96268",
   "metadata": {},
   "outputs": [],
   "source": [
    "it = iter(dl)"
   ]
  },
  {
   "cell_type": "code",
   "execution_count": 26,
   "id": "06646d64-a41b-43fa-9117-96bcc2108b2a",
   "metadata": {},
   "outputs": [
    {
     "data": {
      "text/plain": [
       "(tensor([[0., 0., 0.,  ..., 0., 0., 0.],\n",
       "         [0., 0., 0.,  ..., 0., 0., 0.],\n",
       "         [0., 0., 0.,  ..., 0., 0., 0.],\n",
       "         ...,\n",
       "         [0., 0., 0.,  ..., 0., 0., 0.],\n",
       "         [0., 0., 0.,  ..., 0., 0., 0.],\n",
       "         [0., 0., 0.,  ..., 0., 0., 0.]]),\n",
       " tensor([0, 9, 4, 7, 0, 1, 7, 5, 7, 2, 6, 1, 9, 7, 9, 3, 0, 7, 6, 8, 7, 5, 8, 6,\n",
       "         4, 1, 5, 7, 9, 2, 0, 3, 9, 9, 6, 2, 2, 9, 6, 8, 9, 7, 9, 5, 7, 4, 2, 6,\n",
       "         8, 7, 4, 6, 7, 3, 1, 6, 8, 2, 3, 3, 4, 4, 4, 3, 7, 4, 7, 2, 2, 9, 1, 9,\n",
       "         9, 8, 1, 2, 8, 2, 4, 2, 0, 7, 5, 9, 3, 3, 8, 9, 6, 0, 5, 3, 1, 6, 6, 7,\n",
       "         1, 1, 2, 1, 2, 8, 8, 9, 4, 7, 4, 4, 5, 0, 6, 4, 4, 2, 0, 8, 6, 5, 0, 9,\n",
       "         7, 0, 7, 4, 0, 7, 4, 0, 2, 3, 1, 3, 0, 0, 2, 5, 3, 3, 6, 1, 6, 1, 7, 4,\n",
       "         2, 4, 8, 0, 4, 7, 1, 4, 7, 8, 8, 3, 7, 8, 0, 2, 9, 4, 0, 4, 9, 3, 6, 4,\n",
       "         1, 4, 3, 0, 4, 8, 3, 8, 1, 7, 6, 7, 7, 1, 2, 6, 1, 1, 7, 2, 3, 9, 4, 1,\n",
       "         8, 9, 2, 8, 7, 0, 0, 1, 0, 7, 6, 7, 1, 2, 2, 4, 6, 8, 0, 9, 5, 9, 5, 2,\n",
       "         1, 4, 1, 4, 4, 2, 2, 8, 0, 2, 2, 1, 5, 1, 3, 4, 9, 9, 4, 8, 1, 4, 4, 6,\n",
       "         7, 6, 7, 4, 3, 9, 2, 2, 3, 7, 8, 5, 5, 1, 5, 7]))"
      ]
     },
     "execution_count": 26,
     "metadata": {},
     "output_type": "execute_result"
    }
   ],
   "source": [
    "next(it)"
   ]
  },
  {
   "cell_type": "code",
   "execution_count": 27,
   "id": "48531d42-76fa-45a6-88bd-7bfca83930d3",
   "metadata": {},
   "outputs": [
    {
     "name": "stdout",
     "output_type": "stream",
     "text": [
      "777 ms ± 50.1 ms per loop (mean ± std. dev. of 7 runs, 1 loop each)\n"
     ]
    }
   ],
   "source": [
    "%timeit for _ in dl:pass"
   ]
  },
  {
   "cell_type": "code",
   "execution_count": null,
   "id": "82982f88-cd22-483e-ba48-e9abbbcbd98e",
   "metadata": {},
   "outputs": [],
   "source": []
  }
 ],
 "metadata": {
  "kernelspec": {
   "display_name": "Python 3 (ipykernel)",
   "language": "python",
   "name": "python3"
  },
  "language_info": {
   "codemirror_mode": {
    "name": "ipython",
    "version": 3
   },
   "file_extension": ".py",
   "mimetype": "text/x-python",
   "name": "python",
   "nbconvert_exporter": "python",
   "pygments_lexer": "ipython3",
   "version": "3.9.13"
  }
 },
 "nbformat": 4,
 "nbformat_minor": 5
}
